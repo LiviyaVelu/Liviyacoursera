{
 "cells": [
  {
   "cell_type": "code",
   "execution_count": 1,
   "id": "174885d4-459e-4430-b2a9-b6f020a34bde",
   "metadata": {},
   "outputs": [
    {
     "data": {
      "text/html": [
       "\n",
       "        <iframe\n",
       "            width=\"100%\"\n",
       "            height=\"650\"\n",
       "            src=\"http://127.0.0.1:1319/\"\n",
       "            frameborder=\"0\"\n",
       "            allowfullscreen\n",
       "            \n",
       "        ></iframe>\n",
       "        "
      ],
      "text/plain": [
       "<IPython.lib.display.IFrame at 0x1cda8ae4eb0>"
      ]
     },
     "metadata": {},
     "output_type": "display_data"
    }
   ],
   "source": [
    "import dash\n",
    "from dash import html, dcc\n",
    "from dash.dependencies import Input, Output\n",
    "import plotly.graph_objs as go\n",
    "import pandas as pd\n",
    "\n",
    "# Sample data for demonstration purposes\n",
    "data = {\n",
    "    'Year': [2010, 2011, 2012, 2013, 2014],\n",
    "    'Sales': [10000, 12000, 15000, 18000, 20000],\n",
    "    'Expenses': [8000, 9000, 10000, 12000, 13000],\n",
    "    'Profit': [2000, 3000, 5000, 6000, 7000]\n",
    "}\n",
    "df = pd.DataFrame(data)\n",
    "\n",
    "# Create Dash application instance\n",
    "app = dash.Dash(__name__)\n",
    "\n",
    "# Define layout of the dashboard\n",
    "app.layout = html.Div([\n",
    "    html.H1('Yearly Report Statistics'),\n",
    "\n",
    "    dcc.Graph(id='sales-graph'),\n",
    "    dcc.Graph(id='expenses-graph'),\n",
    "    dcc.Graph(id='profit-graph')\n",
    "])\n",
    "\n",
    "# Define callbacks to update graphs\n",
    "@app.callback(\n",
    "    [Output('sales-graph', 'figure'),\n",
    "     Output('expenses-graph', 'figure'),\n",
    "     Output('profit-graph', 'figure')],\n",
    "    [Input('sales-graph', 'hoverData')]\n",
    ")\n",
    "def update_graphs(hover_data):\n",
    "    # Sample data for demonstration purposes\n",
    "    x = df['Year']\n",
    "    sales_trace = go.Scatter(x=x, y=df['Sales'], mode='lines+markers', name='Sales')\n",
    "    expenses_trace = go.Scatter(x=x, y=df['Expenses'], mode='lines+markers', name='Expenses')\n",
    "    profit_trace = go.Scatter(x=x, y=df['Profit'], mode='lines+markers', name='Profit')\n",
    "\n",
    "    sales_layout = go.Layout(title='Sales Over Years', xaxis={'title': 'Year'}, yaxis={'title': 'Sales ($)'})\n",
    "    expenses_layout = go.Layout(title='Expenses Over Years', xaxis={'title': 'Year'}, yaxis={'title': 'Expenses ($)'})\n",
    "    profit_layout = go.Layout(title='Profit Over Years', xaxis={'title': 'Year'}, yaxis={'title': 'Profit ($)'})\n",
    "\n",
    "    return {'data': [sales_trace], 'layout': sales_layout}, {'data': [expenses_trace], 'layout': expenses_layout}, {'data': [profit_trace], 'layout': profit_layout}\n",
    "\n",
    "if __name__ == '__main__':\n",
    "    app.run_server(port = 1319, debug=True)\n"
   ]
  },
  {
   "cell_type": "code",
   "execution_count": null,
   "id": "2eb7a82e-7faa-45c1-b46c-f10633040ad3",
   "metadata": {},
   "outputs": [],
   "source": []
  }
 ],
 "metadata": {
  "kernelspec": {
   "display_name": "Python 3 (ipykernel)",
   "language": "python",
   "name": "python3"
  },
  "language_info": {
   "codemirror_mode": {
    "name": "ipython",
    "version": 3
   },
   "file_extension": ".py",
   "mimetype": "text/x-python",
   "name": "python",
   "nbconvert_exporter": "python",
   "pygments_lexer": "ipython3",
   "version": "3.9.12"
  }
 },
 "nbformat": 4,
 "nbformat_minor": 5
}
